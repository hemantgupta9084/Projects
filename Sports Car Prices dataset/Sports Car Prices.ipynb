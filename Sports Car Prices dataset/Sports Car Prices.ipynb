{
 "cells": [
  {
   "attachments": {},
   "cell_type": "markdown",
   "metadata": {},
   "source": [
    "### Import Libraries"
   ]
  },
  {
   "cell_type": "code",
   "execution_count": 1,
   "metadata": {},
   "outputs": [],
   "source": [
    "import pandas as pd\n",
    "import numpy as np\n",
    "import matplotlib.pyplot as plt\n",
    "import seaborn as sns\n",
    "# sns.set_theme(color_codes=True)"
   ]
  },
  {
   "attachments": {},
   "cell_type": "markdown",
   "metadata": {},
   "source": [
    "### Import Dataset"
   ]
  },
  {
   "cell_type": "code",
   "execution_count": 2,
   "metadata": {},
   "outputs": [
    {
     "data": {
      "text/html": [
       "<div>\n",
       "<style scoped>\n",
       "    .dataframe tbody tr th:only-of-type {\n",
       "        vertical-align: middle;\n",
       "    }\n",
       "\n",
       "    .dataframe tbody tr th {\n",
       "        vertical-align: top;\n",
       "    }\n",
       "\n",
       "    .dataframe thead th {\n",
       "        text-align: right;\n",
       "    }\n",
       "</style>\n",
       "<table border=\"1\" class=\"dataframe\">\n",
       "  <thead>\n",
       "    <tr style=\"text-align: right;\">\n",
       "      <th></th>\n",
       "      <th>Car Make</th>\n",
       "      <th>Car Model</th>\n",
       "      <th>Year</th>\n",
       "      <th>Engine Size (L)</th>\n",
       "      <th>Horsepower</th>\n",
       "      <th>Torque (lb-ft)</th>\n",
       "      <th>0-60 MPH Time (seconds)</th>\n",
       "      <th>Price (in USD)</th>\n",
       "    </tr>\n",
       "  </thead>\n",
       "  <tbody>\n",
       "    <tr>\n",
       "      <th>0</th>\n",
       "      <td>Porsche</td>\n",
       "      <td>911</td>\n",
       "      <td>2022</td>\n",
       "      <td>3</td>\n",
       "      <td>379</td>\n",
       "      <td>331</td>\n",
       "      <td>4</td>\n",
       "      <td>101,200</td>\n",
       "    </tr>\n",
       "    <tr>\n",
       "      <th>1</th>\n",
       "      <td>Lamborghini</td>\n",
       "      <td>Huracan</td>\n",
       "      <td>2021</td>\n",
       "      <td>5.2</td>\n",
       "      <td>630</td>\n",
       "      <td>443</td>\n",
       "      <td>2.8</td>\n",
       "      <td>274,390</td>\n",
       "    </tr>\n",
       "    <tr>\n",
       "      <th>2</th>\n",
       "      <td>Ferrari</td>\n",
       "      <td>488 GTB</td>\n",
       "      <td>2022</td>\n",
       "      <td>3.9</td>\n",
       "      <td>661</td>\n",
       "      <td>561</td>\n",
       "      <td>3</td>\n",
       "      <td>333,750</td>\n",
       "    </tr>\n",
       "    <tr>\n",
       "      <th>3</th>\n",
       "      <td>Audi</td>\n",
       "      <td>R8</td>\n",
       "      <td>2022</td>\n",
       "      <td>5.2</td>\n",
       "      <td>562</td>\n",
       "      <td>406</td>\n",
       "      <td>3.2</td>\n",
       "      <td>142,700</td>\n",
       "    </tr>\n",
       "    <tr>\n",
       "      <th>4</th>\n",
       "      <td>McLaren</td>\n",
       "      <td>720S</td>\n",
       "      <td>2021</td>\n",
       "      <td>4</td>\n",
       "      <td>710</td>\n",
       "      <td>568</td>\n",
       "      <td>2.7</td>\n",
       "      <td>298,000</td>\n",
       "    </tr>\n",
       "    <tr>\n",
       "      <th>...</th>\n",
       "      <td>...</td>\n",
       "      <td>...</td>\n",
       "      <td>...</td>\n",
       "      <td>...</td>\n",
       "      <td>...</td>\n",
       "      <td>...</td>\n",
       "      <td>...</td>\n",
       "      <td>...</td>\n",
       "    </tr>\n",
       "    <tr>\n",
       "      <th>1002</th>\n",
       "      <td>Koenigsegg</td>\n",
       "      <td>Jesko</td>\n",
       "      <td>2022</td>\n",
       "      <td>5</td>\n",
       "      <td>1280</td>\n",
       "      <td>1106</td>\n",
       "      <td>2.5</td>\n",
       "      <td>3,000,000</td>\n",
       "    </tr>\n",
       "    <tr>\n",
       "      <th>1003</th>\n",
       "      <td>Lotus</td>\n",
       "      <td>Evija</td>\n",
       "      <td>2021</td>\n",
       "      <td>Electric Motor</td>\n",
       "      <td>1972</td>\n",
       "      <td>1254</td>\n",
       "      <td>2</td>\n",
       "      <td>2,000,000</td>\n",
       "    </tr>\n",
       "    <tr>\n",
       "      <th>1004</th>\n",
       "      <td>McLaren</td>\n",
       "      <td>Senna</td>\n",
       "      <td>2021</td>\n",
       "      <td>4</td>\n",
       "      <td>789</td>\n",
       "      <td>590</td>\n",
       "      <td>2.7</td>\n",
       "      <td>1,000,000</td>\n",
       "    </tr>\n",
       "    <tr>\n",
       "      <th>1005</th>\n",
       "      <td>Pagani</td>\n",
       "      <td>Huayra</td>\n",
       "      <td>2021</td>\n",
       "      <td>6</td>\n",
       "      <td>764</td>\n",
       "      <td>738</td>\n",
       "      <td>3</td>\n",
       "      <td>2,600,000</td>\n",
       "    </tr>\n",
       "    <tr>\n",
       "      <th>1006</th>\n",
       "      <td>Rimac</td>\n",
       "      <td>Nevera</td>\n",
       "      <td>2021</td>\n",
       "      <td>Electric Motor</td>\n",
       "      <td>1888</td>\n",
       "      <td>1696</td>\n",
       "      <td>1.85</td>\n",
       "      <td>2,400,000</td>\n",
       "    </tr>\n",
       "  </tbody>\n",
       "</table>\n",
       "<p>1007 rows × 8 columns</p>\n",
       "</div>"
      ],
      "text/plain": [
       "         Car Make Car Model  Year Engine Size (L) Horsepower Torque (lb-ft)  \\\n",
       "0         Porsche       911  2022               3        379            331   \n",
       "1     Lamborghini   Huracan  2021             5.2        630            443   \n",
       "2         Ferrari   488 GTB  2022             3.9        661            561   \n",
       "3            Audi        R8  2022             5.2        562            406   \n",
       "4         McLaren      720S  2021               4        710            568   \n",
       "...           ...       ...   ...             ...        ...            ...   \n",
       "1002   Koenigsegg     Jesko  2022               5       1280           1106   \n",
       "1003        Lotus     Evija  2021  Electric Motor       1972           1254   \n",
       "1004      McLaren     Senna  2021               4        789            590   \n",
       "1005       Pagani    Huayra  2021               6        764            738   \n",
       "1006        Rimac    Nevera  2021  Electric Motor       1888           1696   \n",
       "\n",
       "     0-60 MPH Time (seconds) Price (in USD)  \n",
       "0                          4        101,200  \n",
       "1                        2.8        274,390  \n",
       "2                          3        333,750  \n",
       "3                        3.2        142,700  \n",
       "4                        2.7        298,000  \n",
       "...                      ...            ...  \n",
       "1002                     2.5      3,000,000  \n",
       "1003                       2      2,000,000  \n",
       "1004                     2.7      1,000,000  \n",
       "1005                       3      2,600,000  \n",
       "1006                    1.85      2,400,000  \n",
       "\n",
       "[1007 rows x 8 columns]"
      ]
     },
     "execution_count": 2,
     "metadata": {},
     "output_type": "execute_result"
    }
   ],
   "source": [
    "df = pd.read_csv(\"Sport car price.csv\")\n",
    "df"
   ]
  },
  {
   "attachments": {},
   "cell_type": "markdown",
   "metadata": {},
   "source": [
    "# DATA UNDERSTANDING"
   ]
  },
  {
   "attachments": {},
   "cell_type": "markdown",
   "metadata": {},
   "source": [
    "#### #Top 3 Rows"
   ]
  },
  {
   "cell_type": "code",
   "execution_count": 3,
   "metadata": {},
   "outputs": [
    {
     "data": {
      "text/html": [
       "<div>\n",
       "<style scoped>\n",
       "    .dataframe tbody tr th:only-of-type {\n",
       "        vertical-align: middle;\n",
       "    }\n",
       "\n",
       "    .dataframe tbody tr th {\n",
       "        vertical-align: top;\n",
       "    }\n",
       "\n",
       "    .dataframe thead th {\n",
       "        text-align: right;\n",
       "    }\n",
       "</style>\n",
       "<table border=\"1\" class=\"dataframe\">\n",
       "  <thead>\n",
       "    <tr style=\"text-align: right;\">\n",
       "      <th></th>\n",
       "      <th>Car Make</th>\n",
       "      <th>Car Model</th>\n",
       "      <th>Year</th>\n",
       "      <th>Engine Size (L)</th>\n",
       "      <th>Horsepower</th>\n",
       "      <th>Torque (lb-ft)</th>\n",
       "      <th>0-60 MPH Time (seconds)</th>\n",
       "      <th>Price (in USD)</th>\n",
       "    </tr>\n",
       "  </thead>\n",
       "  <tbody>\n",
       "    <tr>\n",
       "      <th>0</th>\n",
       "      <td>Porsche</td>\n",
       "      <td>911</td>\n",
       "      <td>2022</td>\n",
       "      <td>3</td>\n",
       "      <td>379</td>\n",
       "      <td>331</td>\n",
       "      <td>4</td>\n",
       "      <td>101,200</td>\n",
       "    </tr>\n",
       "    <tr>\n",
       "      <th>1</th>\n",
       "      <td>Lamborghini</td>\n",
       "      <td>Huracan</td>\n",
       "      <td>2021</td>\n",
       "      <td>5.2</td>\n",
       "      <td>630</td>\n",
       "      <td>443</td>\n",
       "      <td>2.8</td>\n",
       "      <td>274,390</td>\n",
       "    </tr>\n",
       "    <tr>\n",
       "      <th>2</th>\n",
       "      <td>Ferrari</td>\n",
       "      <td>488 GTB</td>\n",
       "      <td>2022</td>\n",
       "      <td>3.9</td>\n",
       "      <td>661</td>\n",
       "      <td>561</td>\n",
       "      <td>3</td>\n",
       "      <td>333,750</td>\n",
       "    </tr>\n",
       "  </tbody>\n",
       "</table>\n",
       "</div>"
      ],
      "text/plain": [
       "      Car Make Car Model  Year Engine Size (L) Horsepower Torque (lb-ft)  \\\n",
       "0      Porsche       911  2022               3        379            331   \n",
       "1  Lamborghini   Huracan  2021             5.2        630            443   \n",
       "2      Ferrari   488 GTB  2022             3.9        661            561   \n",
       "\n",
       "  0-60 MPH Time (seconds) Price (in USD)  \n",
       "0                       4        101,200  \n",
       "1                     2.8        274,390  \n",
       "2                       3        333,750  "
      ]
     },
     "execution_count": 3,
     "metadata": {},
     "output_type": "execute_result"
    }
   ],
   "source": [
    "df.head(3)"
   ]
  },
  {
   "attachments": {},
   "cell_type": "markdown",
   "metadata": {},
   "source": [
    "#### #Find Shape"
   ]
  },
  {
   "cell_type": "code",
   "execution_count": 4,
   "metadata": {},
   "outputs": [
    {
     "data": {
      "text/plain": [
       "(1007, 8)"
      ]
     },
     "execution_count": 4,
     "metadata": {},
     "output_type": "execute_result"
    }
   ],
   "source": [
    "df.shape"
   ]
  },
  {
   "attachments": {},
   "cell_type": "markdown",
   "metadata": {},
   "source": [
    "#### #Find Information"
   ]
  },
  {
   "cell_type": "code",
   "execution_count": 5,
   "metadata": {},
   "outputs": [
    {
     "name": "stdout",
     "output_type": "stream",
     "text": [
      "<class 'pandas.core.frame.DataFrame'>\n",
      "RangeIndex: 1007 entries, 0 to 1006\n",
      "Data columns (total 8 columns):\n",
      " #   Column                   Non-Null Count  Dtype \n",
      "---  ------                   --------------  ----- \n",
      " 0   Car Make                 1007 non-null   object\n",
      " 1   Car Model                1007 non-null   object\n",
      " 2   Year                     1007 non-null   int64 \n",
      " 3   Engine Size (L)          997 non-null    object\n",
      " 4   Horsepower               1007 non-null   object\n",
      " 5   Torque (lb-ft)           1004 non-null   object\n",
      " 6   0-60 MPH Time (seconds)  1007 non-null   object\n",
      " 7   Price (in USD)           1007 non-null   object\n",
      "dtypes: int64(1), object(7)\n",
      "memory usage: 63.1+ KB\n"
     ]
    }
   ],
   "source": [
    "df.info()"
   ]
  },
  {
   "attachments": {},
   "cell_type": "markdown",
   "metadata": {},
   "source": [
    "#### #Changing Data Types"
   ]
  },
  {
   "cell_type": "code",
   "execution_count": 6,
   "metadata": {},
   "outputs": [],
   "source": [
    "# Remove comma from Price column\n",
    "df[\"Price (in USD)\"] = df[\"Price (in USD)\"].str.replace(\",\",\"\")\n",
    "# Convert the Price column to integer\n",
    "df[\"Price (in USD)\"] =df[\"Price (in USD)\"].apply(int)"
   ]
  },
  {
   "cell_type": "code",
   "execution_count": 7,
   "metadata": {},
   "outputs": [],
   "source": [
    "# Change data into float\n",
    "df[\"0-60 MPH Time (seconds)\"] = df[\"0-60 MPH Time (seconds)\"].str.replace(\"<\",\"\")\n",
    "df[\"0-60 MPH Time (seconds)\"] = df[\"0-60 MPH Time (seconds)\"].apply(float)"
   ]
  },
  {
   "cell_type": "code",
   "execution_count": 8,
   "metadata": {},
   "outputs": [
    {
     "name": "stderr",
     "output_type": "stream",
     "text": [
      "C:\\Users\\varsh\\AppData\\Local\\Temp\\ipykernel_6528\\2614027451.py:2: FutureWarning: The default value of regex will change from True to False in a future version. In addition, single character regular expressions will *not* be treated as literal strings when regex=True.\n",
      "  df[\"Torque (lb-ft)\"] = df[\"Torque (lb-ft)\"].str.replace(\",\",\"\").str.replace(\"+\",\"\")\n"
     ]
    }
   ],
   "source": [
    "# Convert data into integer\n",
    "df[\"Torque (lb-ft)\"] = df[\"Torque (lb-ft)\"].str.replace(\",\",\"\").str.replace(\"+\",\"\")\n",
    "df[\"Torque (lb-ft)\"] = df[\"Torque (lb-ft)\"].str.replace(\"-\",\"0\")\n",
    "df[\"Torque (lb-ft)\"] = df[\"Torque (lb-ft)\"].fillna(\"0\")\n",
    "df[\"Torque (lb-ft)\"] = df[\"Torque (lb-ft)\"].apply(int)"
   ]
  },
  {
   "cell_type": "code",
   "execution_count": 9,
   "metadata": {},
   "outputs": [
    {
     "name": "stderr",
     "output_type": "stream",
     "text": [
      "C:\\Users\\varsh\\AppData\\Local\\Temp\\ipykernel_6528\\1588016146.py:2: FutureWarning: The default value of regex will change from True to False in a future version. In addition, single character regular expressions will *not* be treated as literal strings when regex=True.\n",
      "  df[\"Horsepower\"] = df[\"Horsepower\"].str.replace(\"+\",\"\").str.replace(\",\",\"\")\n"
     ]
    }
   ],
   "source": [
    "# Convert data into integer\n",
    "df[\"Horsepower\"] = df[\"Horsepower\"].str.replace(\"+\",\"\").str.replace(\",\",\"\")\n",
    "df[\"Horsepower\"] = df[\"Horsepower\"].apply(int)"
   ]
  },
  {
   "attachments": {},
   "cell_type": "markdown",
   "metadata": {},
   "source": [
    "# DATA PREPROCESSIG"
   ]
  },
  {
   "attachments": {},
   "cell_type": "markdown",
   "metadata": {},
   "source": [
    "#### #Segment Engine Size"
   ]
  },
  {
   "cell_type": "code",
   "execution_count": 10,
   "metadata": {},
   "outputs": [
    {
     "data": {
      "text/plain": [
       "array(['3', '5.2', '3.9', '4', '4.4', '6.2', '3.8', '8', '5', '3.5',\n",
       "       '4.7', '2', '2.9', '6', 'Electric', '6.5', '3.7', 'Electric Motor',\n",
       "       '2.5', '1.5 + Electric', '6.8', '8.4', nan, '6.6', '7', '1.7',\n",
       "       '3.3', '-', '6.7', '1.8', 'Electric (tri-motor)', '5.5',\n",
       "       'Electric (93 kWh)', 'Electric (100 kWh)', 'Hybrid (4.0)', '4.6',\n",
       "       '3.6', '1.5', 'Hybrid', '5.7', '2.0 (Electric)', '4.0 (Hybrid)',\n",
       "       '0', '6.4', '6.3', '2.3'], dtype=object)"
      ]
     },
     "execution_count": 10,
     "metadata": {},
     "output_type": "execute_result"
    }
   ],
   "source": [
    "df[\"Engine Size (L)\"].unique()"
   ]
  },
  {
   "cell_type": "code",
   "execution_count": 11,
   "metadata": {},
   "outputs": [
    {
     "data": {
      "text/plain": [
       "array(['Large', 'Medium', 'Electric/Hybrid', 'Electric', '1.5 Hybrid',\n",
       "       'Small', 'Unknown', '4.0 Hybrid'], dtype=object)"
      ]
     },
     "execution_count": 11,
     "metadata": {},
     "output_type": "execute_result"
    }
   ],
   "source": [
    "# Define a function to segment the values\n",
    "def segment_engine_size(engine_size):\n",
    "    if engine_size in ['Electric','Hybrid']:\n",
    "        return 'Electric/Hybrid'\n",
    "    elif engine_size in ['Electric (93 kWh)', 'Electric (100 kWh)','Electric (tri-motor)','Electric Motor','2.0 (Electric)']:\n",
    "        return 'Electric'\n",
    "    elif engine_size == '1.5 + Electric':\n",
    "        return '1.5 Hybrid'\n",
    "    elif engine_size in ['Hybrid (4.0)','4.0 (Hybrid)']:\n",
    "        return '4.0 Hybrid'\n",
    "    elif engine_size == '0':\n",
    "        return 'Unknown'\n",
    "    elif engine_size == '-':\n",
    "        return 'Unknown'\n",
    "    elif float(engine_size) < 2:\n",
    "        return 'Small'\n",
    "    elif float(engine_size) < 3:\n",
    "        return 'Medium'\n",
    "    else:\n",
    "        return'Large'\n",
    "\n",
    "# Apply the function to the engine size column\n",
    "df[\"Engine Size (L)\"] = df[\"Engine Size (L)\"].apply(segment_engine_size)\n",
    "df[\"Engine Size (L)\"].unique()"
   ]
  },
  {
   "attachments": {},
   "cell_type": "markdown",
   "metadata": {},
   "source": [
    "#### #Distribution of Engine Size Segment"
   ]
  },
  {
   "cell_type": "code",
   "execution_count": 34,
   "metadata": {},
   "outputs": [
    {
     "data": {
      "image/png": "[encoded data removed]",
      "text/plain": [
       "<Figure size 1400x700 with 1 Axes>"
      ]
     },
     "metadata": {},
     "output_type": "display_data"
    }
   ],
   "source": [
    "plt.figure(figsize=(14,7))\n",
    "ax = sns.countplot(data=df,x=df[\"Engine Size (L)\"],order=df[\"Engine Size (L)\"].value_counts().index)\n",
    "plt.title(\"Distribution of Engine Size Segment\",pad=12,fontsize=15,weight=\"bold\")\n",
    "plt.xticks(weight=\"bold\")\n",
    "plt.yticks(weight=\"bold\")\n",
    "plt.xlabel(\"Engine Size\",weight=\"bold\",fontsize= 14,labelpad=8)\n",
    "plt.ylabel(\"\")\n",
    "for i in ax.containers:\n",
    "    i.datavalues\n",
    "    ax.bar_label(i,weight=\"bold\")\n",
    "plt.show()"
   ]
  },
  {
   "attachments": {},
   "cell_type": "markdown",
   "metadata": {},
   "source": [
    "#### #Find Data Types"
   ]
  },
  {
   "cell_type": "code",
   "execution_count": 13,
   "metadata": {},
   "outputs": [
    {
     "data": {
      "text/plain": [
       "Car Make                    object\n",
       "Car Model                   object\n",
       "Year                         int64\n",
       "Engine Size (L)             object\n",
       "Horsepower                   int64\n",
       "Torque (lb-ft)               int64\n",
       "0-60 MPH Time (seconds)    float64\n",
       "Price (in USD)               int64\n",
       "dtype: object"
      ]
     },
     "execution_count": 13,
     "metadata": {},
     "output_type": "execute_result"
    }
   ],
   "source": [
    "# Find data types after changing data types\n",
    "df.dtypes"
   ]
  },
  {
   "attachments": {},
   "cell_type": "markdown",
   "metadata": {},
   "source": [
    "#### #Statistical Summary"
   ]
  },
  {
   "cell_type": "code",
   "execution_count": 14,
   "metadata": {},
   "outputs": [
    {
     "data": {
      "text/html": [
       "<div>\n",
       "<style scoped>\n",
       "    .dataframe tbody tr th:only-of-type {\n",
       "        vertical-align: middle;\n",
       "    }\n",
       "\n",
       "    .dataframe tbody tr th {\n",
       "        vertical-align: top;\n",
       "    }\n",
       "\n",
       "    .dataframe thead th {\n",
       "        text-align: right;\n",
       "    }\n",
       "</style>\n",
       "<table border=\"1\" class=\"dataframe\">\n",
       "  <thead>\n",
       "    <tr style=\"text-align: right;\">\n",
       "      <th></th>\n",
       "      <th>Year</th>\n",
       "      <th>Horsepower</th>\n",
       "      <th>Torque (lb-ft)</th>\n",
       "      <th>0-60 MPH Time (seconds)</th>\n",
       "      <th>Price (in USD)</th>\n",
       "    </tr>\n",
       "  </thead>\n",
       "  <tbody>\n",
       "    <tr>\n",
       "      <th>count</th>\n",
       "      <td>1007.000000</td>\n",
       "      <td>1007.000000</td>\n",
       "      <td>1007.000000</td>\n",
       "      <td>1007.000000</td>\n",
       "      <td>1.007000e+03</td>\n",
       "    </tr>\n",
       "    <tr>\n",
       "      <th>mean</th>\n",
       "      <td>2021.201589</td>\n",
       "      <td>657.984111</td>\n",
       "      <td>557.347567</td>\n",
       "      <td>3.513406</td>\n",
       "      <td>3.820359e+05</td>\n",
       "    </tr>\n",
       "    <tr>\n",
       "      <th>std</th>\n",
       "      <td>2.019802</td>\n",
       "      <td>593.017842</td>\n",
       "      <td>441.906994</td>\n",
       "      <td>0.777639</td>\n",
       "      <td>7.383227e+05</td>\n",
       "    </tr>\n",
       "    <tr>\n",
       "      <th>min</th>\n",
       "      <td>1965.000000</td>\n",
       "      <td>181.000000</td>\n",
       "      <td>0.000000</td>\n",
       "      <td>1.800000</td>\n",
       "      <td>2.500000e+04</td>\n",
       "    </tr>\n",
       "    <tr>\n",
       "      <th>25%</th>\n",
       "      <td>2021.000000</td>\n",
       "      <td>454.000000</td>\n",
       "      <td>406.000000</td>\n",
       "      <td>2.900000</td>\n",
       "      <td>7.180000e+04</td>\n",
       "    </tr>\n",
       "    <tr>\n",
       "      <th>50%</th>\n",
       "      <td>2021.000000</td>\n",
       "      <td>591.000000</td>\n",
       "      <td>509.000000</td>\n",
       "      <td>3.500000</td>\n",
       "      <td>1.400000e+05</td>\n",
       "    </tr>\n",
       "    <tr>\n",
       "      <th>75%</th>\n",
       "      <td>2022.000000</td>\n",
       "      <td>708.500000</td>\n",
       "      <td>604.000000</td>\n",
       "      <td>4.000000</td>\n",
       "      <td>2.500000e+05</td>\n",
       "    </tr>\n",
       "    <tr>\n",
       "      <th>max</th>\n",
       "      <td>2023.000000</td>\n",
       "      <td>10000.000000</td>\n",
       "      <td>10000.000000</td>\n",
       "      <td>6.500000</td>\n",
       "      <td>5.200000e+06</td>\n",
       "    </tr>\n",
       "  </tbody>\n",
       "</table>\n",
       "</div>"
      ],
      "text/plain": [
       "              Year    Horsepower  Torque (lb-ft)  0-60 MPH Time (seconds)  \\\n",
       "count  1007.000000   1007.000000     1007.000000              1007.000000   \n",
       "mean   2021.201589    657.984111      557.347567                 3.513406   \n",
       "std       2.019802    593.017842      441.906994                 0.777639   \n",
       "min    1965.000000    181.000000        0.000000                 1.800000   \n",
       "25%    2021.000000    454.000000      406.000000                 2.900000   \n",
       "50%    2021.000000    591.000000      509.000000                 3.500000   \n",
       "75%    2022.000000    708.500000      604.000000                 4.000000   \n",
       "max    2023.000000  10000.000000    10000.000000                 6.500000   \n",
       "\n",
       "       Price (in USD)  \n",
       "count    1.007000e+03  \n",
       "mean     3.820359e+05  \n",
       "std      7.383227e+05  \n",
       "min      2.500000e+04  \n",
       "25%      7.180000e+04  \n",
       "50%      1.400000e+05  \n",
       "75%      2.500000e+05  \n",
       "max      5.200000e+06  "
      ]
     },
     "execution_count": 14,
     "metadata": {},
     "output_type": "execute_result"
    }
   ],
   "source": [
    "df.describe()"
   ]
  },
  {
   "cell_type": "code",
   "execution_count": 15,
   "metadata": {},
   "outputs": [
    {
     "data": {
      "text/html": [
       "<div>\n",
       "<style scoped>\n",
       "    .dataframe tbody tr th:only-of-type {\n",
       "        vertical-align: middle;\n",
       "    }\n",
       "\n",
       "    .dataframe tbody tr th {\n",
       "        vertical-align: top;\n",
       "    }\n",
       "\n",
       "    .dataframe thead th {\n",
       "        text-align: right;\n",
       "    }\n",
       "</style>\n",
       "<table border=\"1\" class=\"dataframe\">\n",
       "  <thead>\n",
       "    <tr style=\"text-align: right;\">\n",
       "      <th></th>\n",
       "      <th>Car Make</th>\n",
       "      <th>Car Model</th>\n",
       "      <th>Engine Size (L)</th>\n",
       "    </tr>\n",
       "  </thead>\n",
       "  <tbody>\n",
       "    <tr>\n",
       "      <th>count</th>\n",
       "      <td>1007</td>\n",
       "      <td>1007</td>\n",
       "      <td>1007</td>\n",
       "    </tr>\n",
       "    <tr>\n",
       "      <th>unique</th>\n",
       "      <td>38</td>\n",
       "      <td>176</td>\n",
       "      <td>8</td>\n",
       "    </tr>\n",
       "    <tr>\n",
       "      <th>top</th>\n",
       "      <td>Porsche</td>\n",
       "      <td>GT</td>\n",
       "      <td>Large</td>\n",
       "    </tr>\n",
       "    <tr>\n",
       "      <th>freq</th>\n",
       "      <td>88</td>\n",
       "      <td>55</td>\n",
       "      <td>858</td>\n",
       "    </tr>\n",
       "  </tbody>\n",
       "</table>\n",
       "</div>"
      ],
      "text/plain": [
       "       Car Make Car Model Engine Size (L)\n",
       "count      1007      1007            1007\n",
       "unique       38       176               8\n",
       "top     Porsche        GT           Large\n",
       "freq         88        55             858"
      ]
     },
     "execution_count": 15,
     "metadata": {},
     "output_type": "execute_result"
    }
   ],
   "source": [
    "df.describe(include=object)"
   ]
  },
  {
   "attachments": {},
   "cell_type": "markdown",
   "metadata": {},
   "source": [
    "#### #Find Duplicate Values"
   ]
  },
  {
   "cell_type": "code",
   "execution_count": 16,
   "metadata": {},
   "outputs": [
    {
     "data": {
      "text/plain": [
       "Car Make                    Chevrolet\n",
       "Car Model                  Camaro ZL1\n",
       "Year                             2022\n",
       "Engine Size (L)                 Large\n",
       "Horsepower                        650\n",
       "Torque (lb-ft)                    650\n",
       "0-60 MPH Time (seconds)           3.5\n",
       "Price (in USD)                  69000\n",
       "Name: 293, dtype: object"
      ]
     },
     "execution_count": 16,
     "metadata": {},
     "output_type": "execute_result"
    }
   ],
   "source": [
    "df.loc[df.duplicated().sum()]"
   ]
  },
  {
   "attachments": {},
   "cell_type": "markdown",
   "metadata": {},
   "source": [
    "#### #Find Null values"
   ]
  },
  {
   "cell_type": "code",
   "execution_count": 17,
   "metadata": {},
   "outputs": [
    {
     "data": {
      "text/plain": [
       "Car Make                   0\n",
       "Car Model                  0\n",
       "Year                       0\n",
       "Engine Size (L)            0\n",
       "Horsepower                 0\n",
       "Torque (lb-ft)             0\n",
       "0-60 MPH Time (seconds)    0\n",
       "Price (in USD)             0\n",
       "dtype: int64"
      ]
     },
     "execution_count": 17,
     "metadata": {},
     "output_type": "execute_result"
    }
   ],
   "source": [
    "df.isna().sum()"
   ]
  },
  {
   "attachments": {},
   "cell_type": "markdown",
   "metadata": {},
   "source": [
    "#### #Remove Car Model Column Because Its Irrelevant And Have Alot Of Unique Values"
   ]
  },
  {
   "cell_type": "code",
   "execution_count": 18,
   "metadata": {},
   "outputs": [
    {
     "data": {
      "text/plain": [
       "GT                  55\n",
       "Camaro ZL1          30\n",
       "Evora GT            27\n",
       "Continental GT      24\n",
       "LC 500              24\n",
       "                    ..\n",
       "Fenyr SuperSport     1\n",
       "Panamera Turbo       1\n",
       "Atom                 1\n",
       "AMG C 63 S           1\n",
       "Mustang              1\n",
       "Name: Car Model, Length: 176, dtype: int64"
      ]
     },
     "execution_count": 18,
     "metadata": {},
     "output_type": "execute_result"
    }
   ],
   "source": [
    "df[\"Car Model\"].value_counts()"
   ]
  },
  {
   "cell_type": "code",
   "execution_count": 19,
   "metadata": {},
   "outputs": [
    {
     "data": {
      "text/html": [
       "<div>\n",
       "<style scoped>\n",
       "    .dataframe tbody tr th:only-of-type {\n",
       "        vertical-align: middle;\n",
       "    }\n",
       "\n",
       "    .dataframe tbody tr th {\n",
       "        vertical-align: top;\n",
       "    }\n",
       "\n",
       "    .dataframe thead th {\n",
       "        text-align: right;\n",
       "    }\n",
       "</style>\n",
       "<table border=\"1\" class=\"dataframe\">\n",
       "  <thead>\n",
       "    <tr style=\"text-align: right;\">\n",
       "      <th></th>\n",
       "      <th>Car Make</th>\n",
       "      <th>Year</th>\n",
       "      <th>Engine Size (L)</th>\n",
       "      <th>Horsepower</th>\n",
       "      <th>Torque (lb-ft)</th>\n",
       "      <th>0-60 MPH Time (seconds)</th>\n",
       "      <th>Price (in USD)</th>\n",
       "    </tr>\n",
       "  </thead>\n",
       "  <tbody>\n",
       "    <tr>\n",
       "      <th>0</th>\n",
       "      <td>Porsche</td>\n",
       "      <td>2022</td>\n",
       "      <td>Large</td>\n",
       "      <td>379</td>\n",
       "      <td>331</td>\n",
       "      <td>4.0</td>\n",
       "      <td>101200</td>\n",
       "    </tr>\n",
       "    <tr>\n",
       "      <th>1</th>\n",
       "      <td>Lamborghini</td>\n",
       "      <td>2021</td>\n",
       "      <td>Large</td>\n",
       "      <td>630</td>\n",
       "      <td>443</td>\n",
       "      <td>2.8</td>\n",
       "      <td>274390</td>\n",
       "    </tr>\n",
       "    <tr>\n",
       "      <th>2</th>\n",
       "      <td>Ferrari</td>\n",
       "      <td>2022</td>\n",
       "      <td>Large</td>\n",
       "      <td>661</td>\n",
       "      <td>561</td>\n",
       "      <td>3.0</td>\n",
       "      <td>333750</td>\n",
       "    </tr>\n",
       "  </tbody>\n",
       "</table>\n",
       "</div>"
      ],
      "text/plain": [
       "      Car Make  Year Engine Size (L)  Horsepower  Torque (lb-ft)  \\\n",
       "0      Porsche  2022           Large         379             331   \n",
       "1  Lamborghini  2021           Large         630             443   \n",
       "2      Ferrari  2022           Large         661             561   \n",
       "\n",
       "   0-60 MPH Time (seconds)  Price (in USD)  \n",
       "0                      4.0          101200  \n",
       "1                      2.8          274390  \n",
       "2                      3.0          333750  "
      ]
     },
     "execution_count": 19,
     "metadata": {},
     "output_type": "execute_result"
    }
   ],
   "source": [
    "df.drop(columns= \"Car Model\",inplace=True)\n",
    "df.head(3)"
   ]
  },
  {
   "attachments": {},
   "cell_type": "markdown",
   "metadata": {},
   "source": [
    "#### #Segment Car Make"
   ]
  },
  {
   "cell_type": "code",
   "execution_count": 20,
   "metadata": {},
   "outputs": [
    {
     "data": {
      "text/plain": [
       "array(['Porsche', 'Lamborghini', 'Ferrari', 'Audi', 'McLaren', 'BMW',\n",
       "       'Mercedes-Benz', 'Chevrolet', 'Ford', 'Nissan', 'Aston Martin',\n",
       "       'Bugatti', 'Dodge', 'Jaguar', 'Koenigsegg', 'Lexus', 'Lotus',\n",
       "       'Maserati', 'Alfa Romeo', 'Ariel', 'Bentley', 'Mercedes-AMG',\n",
       "       'Pagani', 'Polestar', 'Rimac', 'Acura', 'Mazda', 'Rolls-Royce',\n",
       "       'Tesla', 'Toyota', 'W Motors', 'Shelby', 'TVR', 'Subaru',\n",
       "       'Pininfarina', 'Kia', 'Alpine', 'Ultima'], dtype=object)"
      ]
     },
     "execution_count": 20,
     "metadata": {},
     "output_type": "execute_result"
    }
   ],
   "source": [
    "df[\"Car Make\"].unique()"
   ]
  },
  {
   "cell_type": "code",
   "execution_count": 21,
   "metadata": {},
   "outputs": [
    {
     "data": {
      "text/plain": [
       "array(['Luxury', 'Mainstream', 'Other', 'Specialty'], dtype=object)"
      ]
     },
     "execution_count": 21,
     "metadata": {},
     "output_type": "execute_result"
    }
   ],
   "source": [
    "# Define a function to segment the values\n",
    "def segment_car_make(car_make):\n",
    "    if car_make  in ['Porsche', 'Lamborghini', 'Ferrari','McLaren','Aston Martin','Bugatti','Koenigsegg']:\n",
    "        return 'Luxury'\n",
    "    elif car_make in ['Audi','BMW','Mercedes-Benz', 'Chevrolet', 'Ford', 'Nissan','Dodge', 'Jaguar','Mercedes-AMG']:\n",
    "        return 'Mainstream'\n",
    "    elif car_make in ['Ariel','W Motors', 'Shelby', 'TVR', 'Subaru','Alpine', 'Ultima']:\n",
    "        return 'Specialty'\n",
    "    else:\n",
    "        return 'Other'\n",
    "\n",
    "# Apply the function to the car make column\n",
    "df[\"Car Make\"] = df[\"Car Make\"].apply(segment_car_make)\n",
    "df[\"Car Make\"].unique()"
   ]
  },
  {
   "attachments": {},
   "cell_type": "markdown",
   "metadata": {},
   "source": [
    "### #Distribution of Cars Segment"
   ]
  },
  {
   "cell_type": "code",
   "execution_count": 33,
   "metadata": {},
   "outputs": [
    {
     "data": {
      "image/png": "[encoded data removed]",
      "text/plain": [
       "<Figure size 1400x700 with 1 Axes>"
      ]
     },
     "metadata": {},
     "output_type": "display_data"
    }
   ],
   "source": [
    "plt.figure(figsize=(14,7))\n",
    "ax = sns.countplot(data=df,x=df[\"Car Make\"],order=df[\"Car Make\"].value_counts().index)\n",
    "plt.title(\"Distribution of Cars Segment\",pad=12,fontsize=15,weight=\"bold\")\n",
    "plt.xticks(weight=\"bold\")\n",
    "plt.yticks(weight=\"bold\")\n",
    "plt.xlabel(\"Cars Segment\",weight=\"bold\",fontsize= 14,labelpad=8)\n",
    "plt.ylabel(\"\")\n",
    "for i in ax.containers:\n",
    "    i.datavalues\n",
    "    ax.bar_label(i,weight=\"bold\")\n",
    "plt.show()"
   ]
  },
  {
   "cell_type": "code",
   "execution_count": 23,
   "metadata": {},
   "outputs": [
    {
     "data": {
      "text/html": [
       "<div>\n",
       "<style scoped>\n",
       "    .dataframe tbody tr th:only-of-type {\n",
       "        vertical-align: middle;\n",
       "    }\n",
       "\n",
       "    .dataframe tbody tr th {\n",
       "        vertical-align: top;\n",
       "    }\n",
       "\n",
       "    .dataframe thead th {\n",
       "        text-align: right;\n",
       "    }\n",
       "</style>\n",
       "<table border=\"1\" class=\"dataframe\">\n",
       "  <thead>\n",
       "    <tr style=\"text-align: right;\">\n",
       "      <th></th>\n",
       "      <th>Car Make</th>\n",
       "      <th>Year</th>\n",
       "      <th>Engine Size (L)</th>\n",
       "      <th>Horsepower</th>\n",
       "      <th>Torque (lb-ft)</th>\n",
       "      <th>0-60 MPH Time (seconds)</th>\n",
       "      <th>Price (in USD)</th>\n",
       "    </tr>\n",
       "  </thead>\n",
       "  <tbody>\n",
       "    <tr>\n",
       "      <th>0</th>\n",
       "      <td>Luxury</td>\n",
       "      <td>2022</td>\n",
       "      <td>Large</td>\n",
       "      <td>379</td>\n",
       "      <td>331</td>\n",
       "      <td>4.0</td>\n",
       "      <td>101200</td>\n",
       "    </tr>\n",
       "    <tr>\n",
       "      <th>1</th>\n",
       "      <td>Luxury</td>\n",
       "      <td>2021</td>\n",
       "      <td>Large</td>\n",
       "      <td>630</td>\n",
       "      <td>443</td>\n",
       "      <td>2.8</td>\n",
       "      <td>274390</td>\n",
       "    </tr>\n",
       "    <tr>\n",
       "      <th>2</th>\n",
       "      <td>Luxury</td>\n",
       "      <td>2022</td>\n",
       "      <td>Large</td>\n",
       "      <td>661</td>\n",
       "      <td>561</td>\n",
       "      <td>3.0</td>\n",
       "      <td>333750</td>\n",
       "    </tr>\n",
       "    <tr>\n",
       "      <th>3</th>\n",
       "      <td>Mainstream</td>\n",
       "      <td>2022</td>\n",
       "      <td>Large</td>\n",
       "      <td>562</td>\n",
       "      <td>406</td>\n",
       "      <td>3.2</td>\n",
       "      <td>142700</td>\n",
       "    </tr>\n",
       "    <tr>\n",
       "      <th>4</th>\n",
       "      <td>Luxury</td>\n",
       "      <td>2021</td>\n",
       "      <td>Large</td>\n",
       "      <td>710</td>\n",
       "      <td>568</td>\n",
       "      <td>2.7</td>\n",
       "      <td>298000</td>\n",
       "    </tr>\n",
       "  </tbody>\n",
       "</table>\n",
       "</div>"
      ],
      "text/plain": [
       "     Car Make  Year Engine Size (L)  Horsepower  Torque (lb-ft)  \\\n",
       "0      Luxury  2022           Large         379             331   \n",
       "1      Luxury  2021           Large         630             443   \n",
       "2      Luxury  2022           Large         661             561   \n",
       "3  Mainstream  2022           Large         562             406   \n",
       "4      Luxury  2021           Large         710             568   \n",
       "\n",
       "   0-60 MPH Time (seconds)  Price (in USD)  \n",
       "0                      4.0          101200  \n",
       "1                      2.8          274390  \n",
       "2                      3.0          333750  \n",
       "3                      3.2          142700  \n",
       "4                      2.7          298000  "
      ]
     },
     "execution_count": 23,
     "metadata": {},
     "output_type": "execute_result"
    }
   ],
   "source": [
    "df.head(5)"
   ]
  },
  {
   "attachments": {},
   "cell_type": "markdown",
   "metadata": {},
   "source": [
    "### #Distribution Of Cars Category In Price"
   ]
  },
  {
   "cell_type": "code",
   "execution_count": 37,
   "metadata": {},
   "outputs": [
    {
     "data": {
      "image/png": "[encoded data removed]",
      "text/plain": [
       "<Figure size 1400x700 with 1 Axes>"
      ]
     },
     "metadata": {},
     "output_type": "display_data"
    }
   ],
   "source": [
    "plt.figure(figsize=(14,7))\n",
    "sns.barplot(data=df,x=df[\"Car Make\"],y=df[\"Price (in USD)\"], order=df[\"Car Make\"].value_counts(ascending=True).index)\n",
    "plt.title(\"Distribution Of Cars Category In Price\",fontsize=15,weight=\"bold\",pad=12)\n",
    "plt.xticks(weight=\"bold\")\n",
    "plt.yticks(weight=\"bold\")\n",
    "plt.xlabel(\"Cars Category\",weight=\"bold\",fontsize=12,labelpad=12)\n",
    "plt.ylabel(\"Price (in USD)\",weight=\"bold\",fontsize=12,labelpad=12)\n",
    "plt.show()"
   ]
  },
  {
   "cell_type": "code",
   "execution_count": 44,
   "metadata": {},
   "outputs": [
    {
     "data": {
      "image/png": "[encoded data removed]",
      "text/plain": [
       "<Figure size 1400x700 with 1 Axes>"
      ]
     },
     "metadata": {},
     "output_type": "display_data"
    }
   ],
   "source": [
    "plt.figure(figsize=(14,7))\n",
    "sns.barplot(data=df,x=df[\"Engine Size (L)\"],y=df[\"Price (in USD)\"],order=df[\"Engine Size (L)\"].value_counts().index)\n",
    "plt.title(\"Distribution Of Engine Size In Price\",fontsize=15,weight=\"bold\",pad=12)\n",
    "plt.xticks(weight=\"bold\")\n",
    "plt.yticks(weight=\"bold\")\n",
    "plt.xlabel(\"Engine Size\",weight=\"bold\",fontsize=12,labelpad=12)\n",
    "plt.ylabel(\"Price (in USD)\",weight=\"bold\",fontsize=12,labelpad=12)\n",
    "plt.show()"
   ]
  },
  {
   "cell_type": "code",
   "execution_count": null,
   "metadata": {},
   "outputs": [],
   "source": []
  },
  {
   "cell_type": "code",
   "execution_count": null,
   "metadata": {},
   "outputs": [],
   "source": []
  },
  {
   "cell_type": "code",
   "execution_count": null,
   "metadata": {},
   "outputs": [],
   "source": []
  },
  {
   "cell_type": "code",
   "execution_count": null,
   "metadata": {},
   "outputs": [],
   "source": []
  },
  {
   "cell_type": "code",
   "execution_count": null,
   "metadata": {},
   "outputs": [],
   "source": []
  },
  {
   "cell_type": "code",
   "execution_count": null,
   "metadata": {},
   "outputs": [],
   "source": []
  }
 ],
 "metadata": {
  "kernelspec": {
   "display_name": "Python 3",
   "language": "python",
   "name": "python3"
  },
  "language_info": {
   "codemirror_mode": {
    "name": "ipython",
    "version": 3
   },
   "file_extension": ".py",
   "mimetype": "text/x-python",
   "name": "python",
   "nbconvert_exporter": "python",
   "pygments_lexer": "ipython3",
   "version": "3.11.3"
  },
  "orig_nbformat": 4
 },
 "nbformat": 4,
 "nbformat_minor": 2
}
